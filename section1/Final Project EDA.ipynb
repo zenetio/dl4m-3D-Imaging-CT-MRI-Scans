{
 "cells": [
  {
   "cell_type": "markdown",
   "metadata": {},
   "source": [
    "# Preparing the dataset for hippocampus segmentation\n",
    "\n",
    "In this notebook you will use the skills and methods that we have talked about during our EDA Lesson to prepare the hippocampus dataset using Python. Follow the Notebook, writing snippets of code where directed so using Task comments, similar to the one below, which expects you to put the proper imports in place. Write your code directly in the cell with TASK comment. Feel free to add cells as you see fit, but please make sure that code that performs that tasked activity sits in the same cell as the Task comment.\n"
   ]
  },
  {
   "cell_type": "code",
   "execution_count": 1,
   "metadata": {
    "ExecuteTime": {
     "end_time": "2020-09-03T15:09:29.546825Z",
     "start_time": "2020-09-03T15:09:29.543856Z"
    }
   },
   "outputs": [],
   "source": [
    "# TASK: Import the following libraries that we will use: nibabel, matplotlib, numpy\n",
    "import os\n",
    "import numpy as np\n",
    "import nibabel as nib\n",
    "import matplotlib.pyplot as plt\n",
    "from shutil import copyfile"
   ]
  },
  {
   "cell_type": "markdown",
   "metadata": {},
   "source": [
    "It will help your understanding of the data a lot if you were able to use a tool that allows you to view NIFTI volumes, like [3D Slicer](https://www.slicer.org/). I will refer to Slicer throughout this Notebook and will be pasting some images showing what your output might look like."
   ]
  },
  {
   "cell_type": "markdown",
   "metadata": {
    "heading_collapsed": true
   },
   "source": [
    "## Loading NIFTI images using NiBabel\n",
    "\n",
    "NiBabel is a python library for working with neuro-imaging formats (including NIFTI) that we have used in some of the exercises throughout the course. Our volumes and labels are in NIFTI format, so we will use nibabel to load and inspect them.\n",
    "\n",
    "NiBabel documentation could be found here: https://nipy.org/nibabel/\n",
    "\n",
    "Our dataset sits in two directories - *images* and *labels*. Each image is represented by a single file (we are fortunate to have our data converted to NIFTI) and has a corresponding label file which is named the same as the image file.\n",
    "\n",
    "Note that our dataset is \"dirty\". There are a few images and labels that are not quite right. They should be quite obvious to notice, though. The dataset contains an equal amount of \"correct\" volumes and corresponding labels, and you don't need to alter values of any samples in order to get the clean dataset."
   ]
  },
  {
   "cell_type": "code",
   "execution_count": 2,
   "metadata": {
    "ExecuteTime": {
     "end_time": "2020-09-01T18:25:20.198501Z",
     "start_time": "2020-09-01T18:25:20.195502Z"
    },
    "hidden": true
   },
   "outputs": [],
   "source": [
    "# TASK: Your data sits in directory /data/TrainingSet.\n",
    "# Load an image and a segmentation mask into variables called image and label\n",
    "\n",
    "#epi_img = nib.load('downloads/someones_epi.nii.gz')\n",
    "#epi_img_data = epi_img.get_fdata()\n",
    "#epi_img_data.shape"
   ]
  },
  {
   "cell_type": "code",
   "execution_count": 5,
   "metadata": {
    "ExecuteTime": {
     "end_time": "2020-09-01T18:25:20.953340Z",
     "start_time": "2020-09-01T18:25:20.364993Z"
    },
    "hidden": true
   },
   "outputs": [],
   "source": [
    "# TASK: Your data sits in directory /data/TrainingSet.\n",
    "# Load an image and a segmentation mask into variables called image and label\n",
    "path = r\"./data/TrainingSet\"\n",
    "dirs = np.array([[(os.path.join(dp, f), nib.load(os.path.join(dp, f))) for f in files]\n",
    "                   for dp,_,files in os.walk(path) if len(files) != 0])"
   ]
  },
  {
   "cell_type": "code",
   "execution_count": 6,
   "metadata": {
    "ExecuteTime": {
     "end_time": "2020-09-01T18:25:20.961296Z",
     "start_time": "2020-09-01T18:25:20.955326Z"
    },
    "hidden": true
   },
   "outputs": [
    {
     "data": {
      "text/plain": [
       "2"
      ]
     },
     "execution_count": 6,
     "metadata": {},
     "output_type": "execute_result"
    }
   ],
   "source": [
    "# How many directories?\n",
    "len(dirs)"
   ]
  },
  {
   "cell_type": "markdown",
   "metadata": {
    "hidden": true
   },
   "source": [
    "That is correct! **Images** and **labels**"
   ]
  },
  {
   "cell_type": "code",
   "execution_count": 7,
   "metadata": {
    "ExecuteTime": {
     "end_time": "2020-09-01T18:25:21.061297Z",
     "start_time": "2020-09-01T18:25:20.964297Z"
    },
    "hidden": true
   },
   "outputs": [
    {
     "name": "stdout",
     "output_type": "stream",
     "text": [
      "Each directory has 263 files\n"
     ]
    }
   ],
   "source": [
    "print(f\"Each directory has {len(dirs[0])} files\")"
   ]
  },
  {
   "cell_type": "code",
   "execution_count": 8,
   "metadata": {
    "ExecuteTime": {
     "end_time": "2020-09-01T18:25:21.695514Z",
     "start_time": "2020-09-01T18:25:21.429515Z"
    },
    "hidden": true
   },
   "outputs": [],
   "source": [
    "slices = [nib.load(f[0]) for f in dirs[0]]"
   ]
  },
  {
   "cell_type": "code",
   "execution_count": 9,
   "metadata": {
    "ExecuteTime": {
     "end_time": "2020-09-01T18:25:21.703515Z",
     "start_time": "2020-09-01T18:25:21.697515Z"
    },
    "hidden": true
   },
   "outputs": [
    {
     "data": {
      "text/plain": [
       "263"
      ]
     },
     "execution_count": 9,
     "metadata": {},
     "output_type": "execute_result"
    }
   ],
   "source": [
    "len(slices)"
   ]
  },
  {
   "cell_type": "code",
   "execution_count": 10,
   "metadata": {
    "ExecuteTime": {
     "end_time": "2020-09-01T18:25:21.815518Z",
     "start_time": "2020-09-01T18:25:21.771517Z"
    },
    "hidden": true
   },
   "outputs": [],
   "source": [
    "slice = 6\n",
    "image = nib.load(dirs[0][slice][0])\n",
    "label = nib.load(dirs[1][slice][0])"
   ]
  },
  {
   "cell_type": "code",
   "execution_count": 11,
   "metadata": {
    "ExecuteTime": {
     "end_time": "2020-09-01T18:25:23.788515Z",
     "start_time": "2020-09-01T18:25:22.084516Z"
    },
    "hidden": true
   },
   "outputs": [
    {
     "name": "stdout",
     "output_type": "stream",
     "text": [
      "Shape (512, 512, 241)\n",
      ", header <class 'nibabel.nifti1.Nifti1Header'> object, endian='<'\n",
      "sizeof_hdr      : 348\n",
      "data_type       : b''\n",
      "db_name         : b''\n",
      "extents         : 0\n",
      "session_error   : 0\n",
      "regular         : b'r'\n",
      "dim_info        : 0\n",
      "dim             : [  3 512 512 241   1   1   1   1]\n",
      "intent_p1       : 0.0\n",
      "intent_p2       : 0.0\n",
      "intent_p3       : 0.0\n",
      "intent_code     : none\n",
      "datatype        : float32\n",
      "bitpix          : 32\n",
      "slice_start     : 0\n",
      "pixdim          : [-1.        0.597656  0.597656  1.25      0.        0.        0.\n",
      "  0.      ]\n",
      "vox_offset      : 0.0\n",
      "scl_slope       : nan\n",
      "scl_inter       : nan\n",
      "slice_end       : 0\n",
      "slice_code      : unknown\n",
      "xyzt_units      : 10\n",
      "cal_max         : 0.0\n",
      "cal_min         : 0.0\n",
      "slice_duration  : 0.0\n",
      "toffset         : 0.0\n",
      "glmax           : 0\n",
      "glmin           : 0\n",
      "descrip         : b'5.0.10'\n",
      "aux_file        : b''\n",
      "qform_code      : scanner\n",
      "sform_code      : scanner\n",
      "quatern_b       : 0.0\n",
      "quatern_c       : 1.0\n",
      "quatern_d       : 0.0\n",
      "qoffset_x       : 144.2\n",
      "qoffset_y       : -152.40222\n",
      "qoffset_z       : -283.0\n",
      "srow_x          : [ -0.597656   0.         0.       144.2     ]\n",
      "srow_y          : [   0.          0.597656    0.       -152.40222 ]\n",
      "srow_z          : [   0.      0.      1.25 -283.  ]\n",
      "intent_name     : b''\n",
      "magic           : b'n+1'\n"
     ]
    }
   ],
   "source": [
    "epi_img = nib.load(dirs[0][slice][0])\n",
    "epi_img_data = epi_img.get_fdata()\n",
    "epi_img_header = epi_img.header\n",
    "print(f\"Shape {epi_img_data.shape}\\n, header {epi_img_header}\")"
   ]
  },
  {
   "cell_type": "code",
   "execution_count": 12,
   "metadata": {
    "ExecuteTime": {
     "end_time": "2020-09-01T18:25:26.086518Z",
     "start_time": "2020-09-01T18:25:23.790517Z"
    },
    "hidden": true
   },
   "outputs": [
    {
     "name": "stdout",
     "output_type": "stream",
     "text": [
      "Dimensions of image input array: (512, 512, 241)\n",
      "Dimensions of label input array: (36, 50, 31)\n",
      "shape: (512, 512, 241)\n",
      "vol sizes: (0.597656, 0.597656, 1.25)\n"
     ]
    },
    {
     "data": {
      "text/plain": [
       "Text(0.5, 0.98, 'Center slices for EPI label')"
      ]
     },
     "execution_count": 12,
     "metadata": {},
     "output_type": "execute_result"
    },
    {
     "data": {
      "image/png": "[encoded data removed]",
      "text/plain": [
       "<Figure size 720x432 with 3 Axes>"
      ]
     },
     "metadata": {
      "needs_background": "light"
     },
     "output_type": "display_data"
    },
    {
     "data": {
      "image/png": "[encoded data removed]",
      "text/plain": [
       "<Figure size 720x432 with 3 Axes>"
      ]
     },
     "metadata": {
      "needs_background": "light"
     },
     "output_type": "display_data"
    }
   ],
   "source": [
    "# Nibabel can present your image data as a Numpy array by calling the method get_fdata()\n",
    "# The array will contain a multi-dimensional Numpy array with numerical values representing voxel intensities. \n",
    "# In our case, images and labels are 3-dimensional, so get_fdata will return a 3-dimensional array. You can verify this\n",
    "# by accessing the .shape attribute. What are the dimensions of the input arrays?\n",
    "\n",
    "slice = 6\n",
    "image = nib.load(dirs[0][slice][0])\n",
    "label = nib.load(dirs[1][slice][0])\n",
    "img_data = image.get_fdata()\n",
    "lbl_data = label.get_fdata()\n",
    "\n",
    "print(f\"Dimensions of image input array: {img_data.shape}\")\n",
    "print(f\"Dimensions of label input array: {lbl_data.shape}\")\n",
    "print(f\"shape: {image.header.get_data_shape()}\")\n",
    "print(f\"vol sizes: {image.header.get_zooms()}\")\n",
    "\n",
    "# TASK: using matplotlib, visualize a few slices from the dataset, along with their labels. \n",
    "# You can adjust plot sizes like so if you find them too small:\n",
    "\n",
    "plt.rcParams[\"figure.figsize\"] = (10,6)\n",
    "\n",
    "def show_slices(slices):\n",
    "   \"\"\" Function to display row of image slices \"\"\"\n",
    "   fig, axes = plt.subplots(1, len(slices))\n",
    "   for i, slice in enumerate(slices):\n",
    "       axes[i].imshow(slice.T, cmap=\"gray\", origin=\"lower\")\n",
    "\n",
    "slice_0 = img_data[26, :, :]\n",
    "slice_1 = img_data[:, 30, :]\n",
    "slice_2 = img_data[:, :, 20]\n",
    "\n",
    "show_slices([slice_0, slice_1, slice_2])\n",
    "plt.suptitle(\"Center slices for EPI image\")  \n",
    "\n",
    "slice_0 = lbl_data[26, :, :]\n",
    "slice_1 = lbl_data[:, 30, :]\n",
    "slice_2 = lbl_data[:, :, 20]\n",
    "\n",
    "show_slices([slice_0, slice_1, slice_2])\n",
    "plt.suptitle(\"Center slices for EPI label\")  "
   ]
  },
  {
   "cell_type": "markdown",
   "metadata": {
    "hidden": true
   },
   "source": [
    "Load volume into 3D Slicer to validate that your visualization is correct and get a feel for the shape of structures.Try to get a visualization like the one below (hint: while Slicer documentation is not particularly great, there are plenty of YouTube videos available! Just look it up on YouTube if you are not sure how to do something)\n",
    "\n",
    "![3D slicer](img/Slicer.png)"
   ]
  },
  {
   "cell_type": "code",
   "execution_count": 13,
   "metadata": {
    "ExecuteTime": {
     "end_time": "2020-09-01T18:25:26.098516Z",
     "start_time": "2020-09-01T18:25:26.092517Z"
    },
    "hidden": true
   },
   "outputs": [],
   "source": [
    "# Stand out suggestion: use one of the simple Volume Rendering algorithms that we've\n",
    "# implemented in one of our earlier lessons to visualize some of these volumes"
   ]
  },
  {
   "cell_type": "markdown",
   "metadata": {
    "heading_collapsed": true
   },
   "source": [
    "## Looking at single image data\n",
    "In this section we will look closer at the NIFTI representation of our volumes. In order to measure the physical volume of hippocampi, we need to understand the relationship between the sizes of our voxels and the physical world."
   ]
  },
  {
   "cell_type": "code",
   "execution_count": 14,
   "metadata": {
    "ExecuteTime": {
     "end_time": "2020-09-01T18:25:26.187519Z",
     "start_time": "2020-09-01T18:25:26.101516Z"
    },
    "hidden": true,
    "scrolled": true
   },
   "outputs": [
    {
     "data": {
      "text/plain": [
       "nibabel.nifti1.Nifti1Header"
      ]
     },
     "execution_count": 14,
     "metadata": {},
     "output_type": "execute_result"
    }
   ],
   "source": [
    "# Nibabel supports many imaging formats, NIFTI being just one of them. I told you that our images \n",
    "# are in NIFTI, but you should confirm if this is indeed the format that we are dealing with\n",
    "# TASK: using .header_class attribute - what is the format of our images?\n",
    "\n",
    "image.header_class"
   ]
  },
  {
   "cell_type": "markdown",
   "metadata": {
    "hidden": true
   },
   "source": [
    "Further down we will be inspecting .header attribute that provides access to NIFTI metadata. You can use this resource as a reference for various fields: https://brainder.org/2012/09/23/the-nifti-file-format/"
   ]
  },
  {
   "cell_type": "code",
   "execution_count": 15,
   "metadata": {
    "ExecuteTime": {
     "end_time": "2020-09-01T18:25:26.289578Z",
     "start_time": "2020-09-01T18:25:26.189516Z"
    },
    "hidden": true
   },
   "outputs": [
    {
     "data": {
      "text/plain": [
       "array(32, dtype=int16)"
      ]
     },
     "execution_count": 15,
     "metadata": {},
     "output_type": "execute_result"
    }
   ],
   "source": [
    "# TASK: How many bits per pixel are used?\n",
    "image.header.structarr['bitpix']"
   ]
  },
  {
   "cell_type": "code",
   "execution_count": 16,
   "metadata": {
    "ExecuteTime": {
     "end_time": "2020-09-01T18:25:26.426720Z",
     "start_time": "2020-09-01T18:25:26.290548Z"
    },
    "hidden": true
   },
   "outputs": [
    {
     "data": {
      "text/plain": [
       "('mm', 'sec')"
      ]
     },
     "execution_count": 16,
     "metadata": {},
     "output_type": "execute_result"
    }
   ],
   "source": [
    "# TASK: What are the units of measurement?\n",
    "image.header.get_xyzt_units()"
   ]
  },
  {
   "cell_type": "code",
   "execution_count": 17,
   "metadata": {
    "ExecuteTime": {
     "end_time": "2020-09-01T18:25:27.504072Z",
     "start_time": "2020-09-01T18:25:27.500073Z"
    },
    "hidden": true
   },
   "outputs": [
    {
     "data": {
      "text/plain": [
       "array([-1.      ,  0.597656,  0.597656,  1.25    ,  0.      ,  0.      ,\n",
       "        0.      ,  0.      ], dtype=float32)"
      ]
     },
     "execution_count": 17,
     "metadata": {},
     "output_type": "execute_result"
    }
   ],
   "source": [
    "# TASK: Do we have a regular grid? What are grid spacings?\n",
    "image.header['pixdim']"
   ]
  },
  {
   "cell_type": "markdown",
   "metadata": {},
   "source": [
    "Yes, we have a regular grid, with grid spacing (0.597, 0.597, 1.25)"
   ]
  },
  {
   "cell_type": "code",
   "execution_count": 18,
   "metadata": {
    "ExecuteTime": {
     "end_time": "2020-09-01T18:25:28.431279Z",
     "start_time": "2020-09-01T18:25:28.428281Z"
    },
    "hidden": true
   },
   "outputs": [
    {
     "name": "stdout",
     "output_type": "stream",
     "text": [
      "Sagital: 512, Coronal: 512, Axial: 241\n"
     ]
    }
   ],
   "source": [
    "# TASK: What dimensions represent axial, sagittal, and coronal slices? How do you know?\n",
    "# Comparing the images above with Slice 3D, we have:\n",
    "print(f\"Sagital: {image.shape[0]}, Coronal: {image.shape[1]}, Axial: {image.shape[2]}\")"
   ]
  },
  {
   "cell_type": "code",
   "execution_count": 19,
   "metadata": {
    "ExecuteTime": {
     "end_time": "2020-09-01T18:25:29.744958Z",
     "start_time": "2020-09-01T18:25:29.740957Z"
    },
    "hidden": true
   },
   "outputs": [
    {
     "name": "stdout",
     "output_type": "stream",
     "text": [
      "Volume ~3456\n"
     ]
    }
   ],
   "source": [
    "# By now you should have enough information to decide what are dimensions of a single voxel\n",
    "# TASK: Compute the volume (in mm³) of a hippocampus using one of the labels you've loaded. \n",
    "# You should get a number between ~2200 and ~4500\n",
    "\n",
    "# Considering the same label already defined, we can do\n",
    "volume = np.sum(label.get_fdata() > 0)\n",
    "print(f\"Volume ~{volume}\")"
   ]
  },
  {
   "cell_type": "markdown",
   "metadata": {},
   "source": [
    "## Checking number of files"
   ]
  },
  {
   "cell_type": "code",
   "execution_count": 46,
   "metadata": {
    "ExecuteTime": {
     "end_time": "2020-09-03T14:29:26.695750Z",
     "start_time": "2020-09-03T14:29:26.692749Z"
    }
   },
   "outputs": [
    {
     "name": "stdout",
     "output_type": "stream",
     "text": [
      "Images: 263, labels: 262\n"
     ]
    }
   ],
   "source": [
    "# check if all image files has a correspondent label file in label directory \n",
    "print(f\"Images: {len(dirs[0])}, labels: {len(dirs[1])}\")"
   ]
  },
  {
   "cell_type": "markdown",
   "metadata": {},
   "source": [
    "We have a problem! The number of files in both directories does not matches. We need parse both directories"
   ]
  },
  {
   "cell_type": "code",
   "execution_count": 47,
   "metadata": {
    "ExecuteTime": {
     "end_time": "2020-09-03T14:31:25.834787Z",
     "start_time": "2020-09-03T14:31:25.758785Z"
    }
   },
   "outputs": [],
   "source": [
    "in_root_dir = r\"../data/TrainingSet\"\n",
    "out_root_dir = \"./out/TrainingSet\"\n",
    "\n",
    "# rebuild list of files\n",
    "new_images = []\n",
    "new_labels = []\n",
    "\n",
    "if len(dirs[0]) != len(dirs[1]):\n",
    "    # we have a problem\n",
    "    # create a new list\n",
    "    new_list = None\n",
    "    if len(dirs[0]) > len(dirs[1]):\n",
    "        # there is a missing label file\n",
    "        new_list = dirs[1]\n",
    "    else:\n",
    "        # there is a missing image file\n",
    "        new_list = dirs[0]\n",
    "\n",
    "    for f in new_list:\n",
    "        img_dir = os.path.join(in_root_dir, \"images\", os.path.basename(f[0]))\n",
    "        lbl_dir = os.path.join(in_root_dir, \"labels\", os.path.basename(f[0]))\n",
    "        if os.path.exists(img_dir) and os.path.exists(lbl_dir) and \\\n",
    "            img_dir != '.' and lbl_dir != '.':\n",
    "            new_images.append(img_dir)\n",
    "            new_labels.append(lbl_dir)\n",
    "else:\n",
    "    new_images = dirs[0]\n",
    "    new_labels = dirs[1]"
   ]
  },
  {
   "cell_type": "code",
   "execution_count": 48,
   "metadata": {
    "ExecuteTime": {
     "end_time": "2020-09-03T14:31:27.322297Z",
     "start_time": "2020-09-03T14:31:27.318297Z"
    }
   },
   "outputs": [
    {
     "name": "stdout",
     "output_type": "stream",
     "text": [
      "Images: 262, labels: 262\n"
     ]
    }
   ],
   "source": [
    "# double check the new list of files\n",
    "print(f\"Images: {len(new_images)}, labels: {len(new_labels)}\")"
   ]
  },
  {
   "cell_type": "markdown",
   "metadata": {},
   "source": [
    "Great! Now we have the same number of files for images and labels, which means each image has a label."
   ]
  },
  {
   "cell_type": "markdown",
   "metadata": {},
   "source": [
    "## Plotting some charts"
   ]
  },
  {
   "cell_type": "code",
   "execution_count": 54,
   "metadata": {
    "ExecuteTime": {
     "end_time": "2020-09-03T14:38:14.282490Z",
     "start_time": "2020-09-03T14:38:04.311219Z"
    }
   },
   "outputs": [
    {
     "data": {
      "image/png": "[encoded data removed]",
      "text/plain": [
       "<Figure size 720x432 with 1 Axes>"
      ]
     },
     "metadata": {
      "needs_background": "light"
     },
     "output_type": "display_data"
    }
   ],
   "source": [
    "# TASK: Plot a histogram of all volumes that we have in our dataset and see how \n",
    "# our dataset measures against a slice of a normal population represented by the chart below.\n",
    "\n",
    "# Now check for outliers\n",
    "images_names = [nib.load(f) for f in new_images]\n",
    "images = [np.stack(s.get_fdata()) for s in images_names]\n",
    "labels_names = [nib.load(f) for f in new_labels]\n",
    "labels = [np.stack(s.get_fdata()) for s in labels_names]\n",
    "#for i, v in enumerate(images):\n",
    "#    if np.max(v) > val:\n",
    "#        idx, val = i,v\n",
    "#[out.append({i : np.max(v)}) for i,v in enumerate(images)]\n",
    "#idx, val\n",
    "vals, bins, ignored = plt.hist(images, bins = 1)\n",
    "plt.show()"
   ]
  },
  {
   "cell_type": "markdown",
   "metadata": {},
   "source": [
    "Something not good! The graphic shows that we can consider two outliers. So, lets find the outliers and remove them from the images list."
   ]
  },
  {
   "cell_type": "markdown",
   "metadata": {},
   "source": [
    "### Removing outliers"
   ]
  },
  {
   "cell_type": "code",
   "execution_count": 57,
   "metadata": {
    "ExecuteTime": {
     "end_time": "2020-09-03T14:41:05.728270Z",
     "start_time": "2020-09-03T14:41:02.967454Z"
    }
   },
   "outputs": [
    {
     "data": {
      "image/png": "[encoded data removed]",
      "text/plain": [
       "<Figure size 720x432 with 1 Axes>"
      ]
     },
     "metadata": {
      "needs_background": "light"
     },
     "output_type": "display_data"
    }
   ],
   "source": [
    "def two_largest(inlist):\n",
    "    \"\"\"Return the two largest items in the sequence. The sequence must\n",
    "    contain at least two items.\"\"\"\n",
    "    largest = second_largest = 0\n",
    "    it1 = it2 = 0\n",
    "\n",
    "    for i,item in enumerate(inlist):\n",
    "        if item > largest:\n",
    "            largest = item\n",
    "            it1 = i\n",
    "        elif largest > item > second_largest:\n",
    "            second_largest = item\n",
    "            it2 = i\n",
    "    # Return the results as a tuple\n",
    "    return largest, it1, second_largest, it2\n",
    "\n",
    "# based on the histogram we can see two outliers. Lets find them and plot a new histogram\n",
    "v1,i1,v2,i2 = two_largest(vals)\n",
    "\n",
    "# remove outliers from lists\n",
    "img_curated = []\n",
    "lbl_curated = []\n",
    "\n",
    "for i in range(len(vals)):\n",
    "    if i != i1 and i != i2:\n",
    "        img_curated.append(new_images[i])\n",
    "        lbl_curated.append(new_labels[i])\n",
    "\n",
    "# Now check for outliers\n",
    "images_names = [nib.load(f) for f in img_curated]\n",
    "images = [np.stack(s.get_fdata()) for s in images_names]\n",
    "labels_names = [nib.load(f) for f in lbl_curated]\n",
    "labels = [np.stack(s.get_fdata()) for s in labels_names]\n",
    "\n",
    "# plot the new histogram\n",
    "vals2, bins, ignored = plt.hist(images, bins = 1)"
   ]
  },
  {
   "cell_type": "markdown",
   "metadata": {},
   "source": [
    "Yeah, now the histogram is much better!"
   ]
  },
  {
   "cell_type": "markdown",
   "metadata": {},
   "source": [
    "<img src=\"img/nomogram_fem_right.svg\" width=400 align=left>"
   ]
  },
  {
   "cell_type": "markdown",
   "metadata": {},
   "source": [
    "Do you see any outliers? Why do you think it's so (might be not immediately obvious, but it's always a good idea to inspect) outliers closer. If you haven't found the images that do not belong, the histogram may help you."
   ]
  },
  {
   "cell_type": "markdown",
   "metadata": {},
   "source": [
    "In the real world we would have precise information about the ages and conditions of our patients, and understanding how our dataset measures against population norm would be the integral part of clinical validation that we talked about in last lesson. Unfortunately, we do not have this information about this dataset, so we can only guess why it measures the way it is. If you would like to explore further, you can use the [calculator from HippoFit project](http://www.smanohar.com/biobank/calculator.html) to see how our dataset compares against different population slices"
   ]
  },
  {
   "cell_type": "markdown",
   "metadata": {},
   "source": [
    "Did you notice anything odd about the label files? We hope you did! The mask seems to have two classes, labeled with values `1` and `2` respectively. If you visualized sagittal or axial views, you might have gotten a good guess of what those are. Class 1 is the anterior segment of the hippocampus and class 2 is the posterior one. \n",
    "\n",
    "For the purpose of volume calculation we do not care about the distinction, however we will still train our network to differentiate between these two classes and the background"
   ]
  },
  {
   "cell_type": "code",
   "execution_count": null,
   "metadata": {},
   "outputs": [],
   "source": [
    "# TASK: Copy the clean dataset to the output folder inside section1/out. You will use it in the next Section\n",
    "# from the cell above we already have the images in array images\n",
    "# lets get the array of labels"
   ]
  },
  {
   "cell_type": "markdown",
   "metadata": {},
   "source": [
    "## Save curated files"
   ]
  },
  {
   "cell_type": "code",
   "execution_count": 74,
   "metadata": {
    "ExecuteTime": {
     "end_time": "2020-09-03T15:14:13.597412Z",
     "start_time": "2020-09-03T15:14:12.619109Z"
    }
   },
   "outputs": [],
   "source": [
    "in_root_dir = r\"../data/TrainingSet\"\n",
    "out_root_dir = r\"./out/TrainingSet\"\n",
    "\n",
    "def copyFiles(img, lbl):\n",
    "    \"\"\"\" Save all n curated images and labels to out directory\n",
    "         Create directories is does not exist yet\n",
    "         Args:\n",
    "         img: list of image files\n",
    "         lbl: list of label files\n",
    "    \"\"\"\n",
    "    if not os.path.exists(os.path.join(out_root_dir, \"images\")):\n",
    "        os.makedirs(os.path.join(out_root_dir, \"images\"))\n",
    "    if not os.path.exists(os.path.join(out_root_dir,\"labels\")):\n",
    "        os.makedirs(os.path.join(out_root_dir, \"labels\"))\n",
    "    # copy\n",
    "    for i,f in enumerate(img):\n",
    "        img_dstdir = os.path.join(out_root_dir, \"images\", os.path.basename(f))\n",
    "        lbl_srcdir = os.path.join(in_root_dir, \"labels\", os.path.basename(f))\n",
    "        lbl_dstdir = os.path.join(out_root_dir, \"labels\", os.path.basename(f))\n",
    "        #print(f, img_dstdir, lbl_srcdir, lbl_dstdir)\n",
    "        #break\n",
    "        # copy images and labels\n",
    "        try:\n",
    "            # copy image to\n",
    "            copyfile(f, img_dstdir)\n",
    "        except:\n",
    "            print(f\"Error trying copy image file {f}\")\n",
    "        try:\n",
    "            # copy label to\n",
    "            copyfile(lbl_srcdir, lbl_dstdir)\n",
    "        except:\n",
    "            print(f\"Error trying copy label file {lbl_srcdir}\")\n",
    "\n",
    "# Save files to out directory\n",
    "copyFiles(img_curated, lbl_curated)"
   ]
  },
  {
   "cell_type": "markdown",
   "metadata": {},
   "source": [
    "## Final remarks\n",
    "\n",
    "Congratulations! You have finished Section 1. \n",
    "\n",
    "In this section you have inspected a dataset of MRI scans and related segmentations, represented as NIFTI files. We have visualized some slices, and understood the layout of the data. We have inspected file headers to understand what how the image dimensions relate to the physical world and we have understood how to measure our volume. We have then inspected dataset for outliers, and have created a clean set that is ready for consumption by our ML algorithm. \n",
    "\n",
    "In the next section you will create training and testing pipelines for a UNet-based machine learning model, run and monitor the execution, and will produce test metrics. This will arm you with all you need to use the model in the clinical context and reason about its performance!"
   ]
  }
 ],
 "metadata": {
  "kernelspec": {
   "display_name": "Python 3",
   "language": "python",
   "name": "python3"
  },
  "language_info": {
   "codemirror_mode": {
    "name": "ipython",
    "version": 3
   },
   "file_extension": ".py",
   "mimetype": "text/x-python",
   "name": "python",
   "nbconvert_exporter": "python",
   "pygments_lexer": "ipython3",
   "version": "3.7.6"
  }
 },
 "nbformat": 4,
 "nbformat_minor": 2
}
